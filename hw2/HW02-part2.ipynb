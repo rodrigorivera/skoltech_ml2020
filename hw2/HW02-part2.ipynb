{
 "cells": [
  {
   "cell_type": "markdown",
   "metadata": {},
   "source": [
    "# Home Assignment No. 2: Part 2 (Theory)"
   ]
  },
  {
   "cell_type": "markdown",
   "metadata": {},
   "source": [
    "In this part of the homework you are to solve several simple theoretical problems related to machine learning algorithms.\n",
    "* For every separate problem you can get only 0 points or maximal points for this problem. There are **NO INTERMEDIATE scores**.\n",
    "* Your solution must me **COMPLETE**, i.e. contain all required formulas/proofs/detailed explanations.\n",
    "* You must write your solution for any problem right after the words **YOUR SOLUTION**. Attaching pictures of your handwriting is allowed, but **highly discouraged**.\n",
    "## $\\LaTeX$ in Jupyter\n",
    "Jupyter has constantly improving $\\LaTeX$ support. Below are the basic methods to\n",
    "write **neat, tidy, and well typeset** equations in your notebooks:\n",
    "* to write an **inline** equation use \n",
    "```markdown\n",
    "$ you latex equation here $\n",
    "```\n",
    "* to write an equation, that is **displayed on a separate line** use \n",
    "```markdown\n",
    "$$ you latex equation here $$\n",
    "```\n",
    "* to write a **block of equations** use \n",
    "```markdown\n",
    "\\begin{align}\n",
    "    left-hand-side\n",
    "        &= right-hand-side on line 1\n",
    "        \\\\\n",
    "        &= right-hand-side on line 2\n",
    "        \\\\\n",
    "        &= right-hand-side on the last line\n",
    "\\end{align}\n",
    "```\n",
    "The **ampersand** (`&`) aligns the equations horizontally and the **double backslash**\n",
    "(`\\\\`) creates a new line."
   ]
  },
  {
   "cell_type": "markdown",
   "metadata": {},
   "source": [
    "# Task1. Bayesian methods (1 point)"
   ]
  },
  {
   "cell_type": "markdown",
   "metadata": {},
   "source": [
    "For a dataset $D =(X,y) =\\{(x_i,y_i)\\}^m_{i=1}$, $x_i \\in \\mathbb{R}^d$, $y_i\\in\\mathbb{R}$ it is known,that \n",
    "$$y_i = w^T x_i + \\epsilon$$\n",
    "where $\\epsilon \\sim N(0,\\sigma^2)$, $w  \\sim N(0,\\alpha I)$ . Suppose that $X^T X =I$, where $I$ is the identity matrix. Derive MAP estimation for $w$."
   ]
  },
  {
   "cell_type": "markdown",
   "metadata": {},
   "source": [
    "### Your solution\n",
    "From Bayes theorem we know that $p(w | X, y) = \\frac{p(y | X, w) p(w)}{p(y | X)}$.\n",
    "\n",
    "Let's take the logarithm of both parts and write likelyhood of the data and prior distribution of weight:\n",
    "$$\n",
    "\\log p(w | X, y) = \n",
    "\\log \\frac{p(y| X, w) p(w)}{p(y | X)} = \n",
    "\\log p(y |X, w) + \\log p(w) - \\log p(y | X) = \\\\\n",
    "\\log \\prod \\limits_{i=1}^{m} \\mathcal{N} \\left(y_i | w^T x_i, \\sigma^2 \\right) - \\log \\alpha^{m / 2} - \\log  2 \\pi^{m / 2} - \\frac{1}{2 \\alpha} w^T w + \\log p(y | X) = \\\\\n",
    "m\\log \\frac{1}{\\sqrt{2\\pi\\sigma^2}} - \\frac{1}{2 \\sigma^2} \\sum\\limits_{i=1}^{m} \\left(y_i - w^Tx_i\\right)^2 - \\log \\alpha^{m / 2} - \\log  (2 \\pi)^{m / 2} - \\frac{1}{2 \\alpha} w^T w + \\log p(y | X) = \\\\\n",
    "const - \\frac{1}{2}\\left(\\frac{w^T w}{\\alpha} + \\frac{1}{\\sigma^2} \\sum\\limits_{i=1}^{m}\\left(y_i^2 - 2w^T x_i y_i + w^T x_i w^T x_i\\right) \\right).\n",
    "$$\n",
    "\n",
    "With this let's take a derivative to find MAP estimation.\n",
    "\n",
    "$$\n",
    "MAP(w) = \n",
    "argmin_{w} \\left[\\left(\\frac{w^T w}{\\alpha} + \\frac{1}{\\sigma^2} \\sum \\limits_{i=1}^{m}\\left(y_i^2 - 2w^T x_i y_i + w^T w \\right) \\right) \\right].\n",
    "$$\n",
    "\n",
    "$$\n",
    "\\frac{\\partial \\left(\\frac{w^T w}{\\alpha} + \\frac{1}{\\sigma^2} \\sum \\limits_{i=1}^{m}\\left(y_i^2 - 2w^T x_i y_i + w^T w \\right) \\right)}{\\partial w} =\n",
    "(\\frac{1}{\\sigma} + \\frac{1}{\\alpha}) w - \\frac{1}{\\sigma^2} \\sum \\limits_{i=1}^{m} x_i y_i = 0 \\\\\n",
    "\\implies w = \\frac{\\sum \\limits_{i=1}^{m} x_i y_i}{(\\sigma + \\frac{\\sigma^2}{\\alpha})}.\n",
    "$$"
   ]
  },
  {
   "cell_type": "markdown",
   "metadata": {},
   "source": [
    "# Task 2. Gaussian Processes 1 (1 point)"
   ]
  },
  {
   "cell_type": "markdown",
   "metadata": {},
   "source": [
    "Let $\\sigma_n(\\mathbf{x}_*)$ be a predictive variance at point $\\mathbf{x}_*$ of a Gaussian Process $f_n$ with zero mean and covariance $k(\\cdot,\\cdot)$ that was built using first $n$ training points.\n",
    "Prove that for $\\forall \\mathbf{x}_*$ it holds\n",
    "$$\n",
    "    \\sigma_{n}(\\mathbf{x}_*) \\leq \\sigma_{n-1}(\\mathbf{x}_*).\n",
    "$$"
   ]
  },
  {
   "cell_type": "markdown",
   "metadata": {},
   "source": [
    "### Your solution"
   ]
  },
  {
   "cell_type": "markdown",
   "metadata": {},
   "source": [
    "# Task 3. Gaussian Processes 2 (1 point)"
   ]
  },
  {
   "cell_type": "markdown",
   "metadata": {},
   "source": [
    "Consider you have gaussian distribution on $R$ with zero mean and differentiable by arguments covariation funtion $k(x, \\tilde{x})$.Get an expression for the correlation between the implementation of a Gaussian process  $y(x) ∼ GP (0, k(x, x ^{\\prime}))$ and its derivative $\\frac{\\partial y(\\tilde x)}{\\partial \\tilde x}$ ."
   ]
  },
  {
   "cell_type": "markdown",
   "metadata": {},
   "source": [
    "### Your solution\n",
    "Let's denote $z(x) = \\frac{\\partial y}{\\partial x}$.\n",
    "Let's recall that:\n",
    "$$\n",
    "corr(x, y) = \\frac{cov(x, y)}{\\sqrt{\\sigma(x) \\sigma(y))}}.\n",
    "$$\n",
    "\n",
    "For our problem, let's firstly compute numerator:\n",
    "$$\n",
    "cov(y(x), z(\\tilde{x})) = \n",
    "\\mathbb{E} y(x) z(\\tilde{x}) - \\mathbb{E} y(x) \\mathbb{E} z(\\tilde{x}) = \n",
    "\\mathbb{E} y(x) \\frac{\\partial y(\\tilde{x})}{\\partial \\tilde{x}} = \\\\\n",
    "\\frac{\\partial \\mathbb{E} y(x) y(\\tilde{x})}{\\partial \\tilde{x}} = \n",
    "\\frac{\\partial K(x, \\tilde{x})}{\\partial \\tilde{x}}.\n",
    "$$\n",
    "\n",
    "Now let's compute denominator \n",
    "\n",
    "1. $$\n",
    "\\sigma (y(x)) = \\mathbb{E} y^2(x) + \\left[ \\mathbb{E} y(x) \\right]^2 = \\mathbb{E} y(x) y(x) = K(x, x).\n",
    "$$\n",
    "2. $$\n",
    "z(x) = \n",
    "\\mathbb{E} z^2(x) + \\left[ \\mathbb{E} z(x) \\right]^2 = \n",
    "\\mathbb{E} \\left( \\frac{\\partial y(\\tilde(x))}{\\partial \\tilde{x}} \\right)^2 = \n",
    "\\mathbb{E} \\left( \\frac{\\partial }{\\partial \\tilde(x)} y(\\tilde{x}) \\frac{\\partial }{\\partial \\tilde(x)} y(\\tilde{x}) \\right) =\n",
    "\\frac{\\partial^2 }{\\partial \\tilde{x}^2} \\mathbb{E} y(\\tilde{x}) y(\\tilde{x}) = \n",
    "\\frac{\\partial^2 }{\\partial \\tilde{x}^2} K(\\tilde{x}, \\tilde{x}).\n",
    "$$\n",
    "\n",
    "Computations above are reasonable because of the two factors. Firstly, differentiation is a linear opearator as well as expextation. Secondly, $y$ is centered.\n",
    "\n",
    "So, finally, we've got the answer:\n",
    "$$\n",
    "corr(y(x), z(\\tilde{x})) = \n",
    "\\frac{\\frac{\\partial K(x, \\tilde{x})}{\\partial \\tilde{x}}}{ \\sqrt{K(x, x) \\frac{\\partial^2 }{\\partial \\tilde{x}^2} K(\\tilde{x}, \\tilde{x})}}.\n",
    "$$"
   ]
  },
  {
   "cell_type": "markdown",
   "metadata": {},
   "source": [
    "# Task 4. Kernel theory (1 point)"
   ]
  },
  {
   "cell_type": "markdown",
   "metadata": {},
   "source": [
    "Let $K(x, x'):\\mathcal{X}\\times \\mathcal{X}\\rightarrow \\mathbb{R}$ be a PDS kernel,\n",
    "and $\\phi\\colon \\mathcal{X} \\to \\mathcal{H}$ its <b>unknown </b> feature mapping. For $x,x'\\in\\mathcal{X}$ derive the formula for the **distance** between $\n",
    "\\phi(x)$ and $\\phi(x')$ in $\\mathcal{H}$.\n",
    " "
   ]
  },
  {
   "cell_type": "markdown",
   "metadata": {},
   "source": [
    "### Your solution\n",
    "Given a kernel definition: $K(x, x') = \\langle \\phi(x), \\phi(x') \\rangle$, let's derive distance:\n",
    "$$\n",
    "dist(\\phi(x), \\phi(x')) = \n",
    "\\sqrt{\\langle \\phi(x) - \\phi(x'), \\phi(x) - \\phi(x') \\rangle} =\n",
    "\\sqrt{\\langle \\phi(x), \\phi(x) \\rangle - 2 \\langle \\phi(x), \\phi(x') \\rangle + \\langle \\phi(x'), \\phi(x') \\rangle} = \\\\\n",
    "\\sqrt{K(x, x) - 2 K(x, x') + K(x', x')}.\n",
    "$$"
   ]
  },
  {
   "cell_type": "markdown",
   "metadata": {},
   "source": [
    "# Task 5. Naive Gradient Boosting Regression (1 points)"
   ]
  },
  {
   "cell_type": "markdown",
   "metadata": {},
   "source": [
    "You are given a regression dataset, consisting of 5 samples with 1-dimensional feature vector $X$ and scalar target vector $y \\in \\mathbb{R}$:\n",
    "\n",
    "|  x   |  y   | \n",
    "|:----:|:----:| \n",
    "|  10  |  1   | \n",
    "|  32  |  9   | \n",
    "|  46  |  13  | \n",
    "|  54  |  16  | \n",
    "|  63  |  23  | \n",
    "\n",
    "In this task you are asked to implement **3 steps of Gradient Boosting Regression** with decision tree stumps as the learners $h_0, h_1, h_2$. \n",
    "\n",
    "In order to complete this task:\n",
    "1. Refer to the slides on naive boosting for regression in **Lecture 8**.\n",
    "2. Assume that the initial model $f_0$ is the mean of the target vector $y$\n",
    "3. According to the algorithm on the boosting approach for regression from **1.**, compute the residuals\n",
    "4. Manually, find a suitable split among the $x_i$ for each decision tree weak model $h_t(X)$, which minimizes the loss function:\n",
    "\n",
    "$$L_{\\text{split_i}} = \\frac{\\text{Var}_{left\\_split}*N_{1} + \\text{Var}_{right\\_split}*N_{2}}{N_{1}+N_{2}}$$\n",
    "\n",
    "where  $\\text{Var}$ is the variance of the values contained in each leaf, $N_1$ is the number of target values $y$ in the left leaf, $N_{2}$ - in the right leaf\n",
    "\n",
    "5. Perform the Gradient Boosting step on the ensemble model $f_t$ with the resulting decision tree stump predictions (assume that the learning rate $lr=1.0$).\n",
    "\n",
    "**Note on Decision Tree Stumps:** A decision tree stump is a decision tree, which consists only of the root and its immediate leaves. In case of this task, at each iteration you are asked to consider 5 different variants of the decision tree stumps $h_t^i$ - one variant for each of the split candidates $x_i$. You should choose the variant that minimizes the loss written above. The two leaves of the tree are formed according to the rule:\n",
    "\n",
    "```python\n",
    "if x_i < split:\n",
    "    target_value -> left leaf\n",
    "elif x_i >= split:\n",
    "    target_value -> right leaf\n",
    "```\n",
    "**HINT:** Think about what should be `target_value` equal to in case of Gradient Boosting Regression.\n",
    "\n",
    "The prediction of decision tree stump $h_t(x_i)$ is the mean of the values of the according leaf.\n",
    "\n"
   ]
  },
  {
   "cell_type": "markdown",
   "metadata": {},
   "source": [
    "The task:\n",
    "\n",
    "* Fill in the table - round the values of table up to the second digit after decimal point:\n",
    "\n",
    "|   x  |   y  |$f_0$|$$y - f_0$$| $L$ |$h_0$|$f_1$|$$y-f_1$$| $L$ |$h_1$|$f_2$|$$y - f_2$$| $L$ |$h_2$|$F_3$|\n",
    "|------|------|-----|-----------|-----|-----|-----|---------|-----|-----|-----|-----------|-----|-----|-----|\n",
    "|  10  |  1   | 12.4|      -11.4|53.44| -7.4|    5|       -4|16.93|-1.42| 3.58|      -2.58| 8.90|-2.58|    1| \n",
    "|  32  |  9   | 12.4|       -3.4|20.95| -7.4|    5|        4|12.93|-1.42| 3.58|       5.42| 7.24| 0.65| 4.23|\n",
    "|  46  |  13  | 12.4|        0.6|16.93| 4.93|17.33|    -4.33|16.93|-1.42|15.92|      -2.92| 7.57| 0.65|16.56|\n",
    "|  54  |  16  | 12.4|        3.6|19.83| 4.93|17.33|    -1.33|13.80|-1.42|15.92|       0.08| 8.90| 0.65|16.56|\n",
    "|  63  |  23  | 12.4|       10.6|25.35| 4.93|17.33|     5.67| 8.91| 5.67|   23|          0| 8.91| 0.65|23.65|\n",
    "\n",
    "\n",
    "where $L$ is the loss, calculated by the formula for decision tree stumps above, for each of the 5 split variants of the decision tree stump at each iteration\n",
    "* Write down the splits (the feature values) you have found for each of the tree stumps\n",
    "\n",
    "* Insert the predictions of the full ensemble model and the split values, you have achieved after 3 iterations into the plotting cell below (**COPY AND PASTE** the last column from the table above and the splits list to the plotting cell below, instead of **#your solution**)"
   ]
  },
  {
   "cell_type": "code",
   "execution_count": 5,
   "metadata": {},
   "outputs": [],
   "source": [
    "from statistics import mean \n",
    "import numpy as np\n",
    "from itertools import groupby\n",
    "import matplotlib.pyplot as plt"
   ]
  },
  {
   "cell_type": "code",
   "execution_count": 6,
   "metadata": {},
   "outputs": [],
   "source": [
    "def plot_tree(x,F,stumps):\n",
    "    x_range = np.arange(np.min(x), np.max(x)+1)\n",
    "    x_r = []\n",
    "    f_r = []\n",
    "    stmps = [0] + stumps + [np.inf]\n",
    "    for st in range(1,len(stmps)):\n",
    "        x_r.extend([list(group) for k, group in groupby(x_range, lambda x: x<stmps[st] and x>=stmps[st-1]) if k])\n",
    "        f_r.append([f_i for f_i,x_ii in zip(F,x) if x_ii<stmps[st] and x_ii>=stmps[st-1]])\n",
    "    F_to_plot = []\n",
    "    for ft in range(len(f_r)):\n",
    "        #assert len(f_r) == len(x_r)\n",
    "        if len(f_r[ft]) == 1:\n",
    "            F_to_plot.extend([f_r[ft][0]]*len(x_r[ft]))\n",
    "        elif len(f_r[ft]) > 1:\n",
    "            F_to_plot.extend([mean(f_r[ft])]*len(x_r[ft]))\n",
    "    return F_to_plot"
   ]
  },
  {
   "cell_type": "markdown",
   "metadata": {},
   "source": [
    "## PLOTTING CELL##"
   ]
  },
  {
   "cell_type": "code",
   "execution_count": 7,
   "metadata": {},
   "outputs": [
    {
     "data": {
      "image/png": "[encoded data removed]",
      "text/plain": [
       "<Figure size 720x432 with 1 Axes>"
      ]
     },
     "metadata": {
      "needs_background": "light"
     },
     "output_type": "display_data"
    }
   ],
   "source": [
    "x = [10,32,46,54,63]\n",
    "y = [1, 9, 13, 16, 23]\n",
    "\n",
    "#note that the order of F(x_i) should be corresponding to the order of x_i in the table\n",
    "\n",
    "############ INSERT YOUR SOLUTION HERE###############\n",
    "F3 = np.array([1, 4.53, 16.56, 16.56, 23.65]) ####your solution#####\n",
    "splits = np.array([46, 63, 32]) ####your solution####\n",
    "\n",
    "boosted_F_plot = plot_tree(x, F3, stumps = list(np.sort(splits)))\n",
    "fig, ax = plt.subplots(1,1, figsize=(10,6))\n",
    "ax.scatter(x,y, label = 'original')\n",
    "ax.scatter(x, F3, label = 'predicted')\n",
    "x_range = np.arange(np.min(x), np.max(x)+1)\n",
    "ax.plot(x_range, boosted_F_plot,'--', linewidth=2, label = 'composite function')\n",
    "plt.show()"
   ]
  },
  {
   "cell_type": "markdown",
   "metadata": {},
   "source": [
    "# Task 6. AdaBoost (1 point)"
   ]
  },
  {
   "cell_type": "markdown",
   "metadata": {},
   "source": [
    "For each of the following cases,explain how AdaBoost, as given in **Lecture 7**, will treat a weak hypothesis $h_t$ with weighted error $N_t(h_t , w_t )$. Also, in each case, explain why this behavior takes place.\n",
    "1. $N_t = \\frac{1}{2}$\n",
    "2. $N_t > \\frac{1}{2}$\n",
    "3. $N_t = 0$"
   ]
  },
  {
   "cell_type": "markdown",
   "metadata": {},
   "source": [
    "### Your solution\n",
    "We will need an expression for coefficient alpha for the new weak learner from lectures:\n",
    "$$\n",
    "\\alpha_t = \\frac{1}{2} \\log \\frac{1 - N_t}{N_t}.\n",
    "$$\n",
    "\n",
    "Given the formula above, let's what we've got in each case.\n",
    "1. $N_t = \\frac{1}{2} \\implies \\alpha_t = 0$. This means that we do not take into account new learner.\n",
    "2. $N_t > \\frac{1}{2} \\implies \\alpha_t < 0$. This means that we've got coefficient below zero, so basically, when we multiply it on the predictions of a new classifier, we just invert it's predictions.\n",
    "3. $N_t > \\frac{1}{2} \\implies \\alpha_t = \\infty$. This means that predictions of the previous classifiers are not important at all and we will take into account only the new one."
   ]
  },
  {
   "cell_type": "markdown",
   "metadata": {},
   "source": []
  }
 ],
 "metadata": {
  "kernelspec": {
   "display_name": "Python 3",
   "language": "python",
   "name": "python3"
  },
  "language_info": {
   "codemirror_mode": {
    "name": "ipython",
    "version": 3
   },
   "file_extension": ".py",
   "mimetype": "text/x-python",
   "name": "python",
   "nbconvert_exporter": "python",
   "pygments_lexer": "ipython3",
   "version": "3.6.9"
  }
 },
 "nbformat": 4,
 "nbformat_minor": 2
}
