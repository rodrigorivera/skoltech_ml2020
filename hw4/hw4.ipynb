{
 "cells": [
  {
   "cell_type": "markdown",
   "metadata": {},
   "source": [
    "# Home Assignment No. 4: Part 1 (Practice)\n",
    "To solve this task, you will write some code to try random **recurrent neural networks** in action. This part of the assignment is a simple practice with pytorch.\n",
    "* You are **HIGHLY RECOMMENDED** to read relevant documentation, e.g. for [python](https://docs.python.org/3/), [numpy](https://docs.scipy.org/doc/numpy/reference/), [matlpotlib](https://matplotlib.org/) and [pytorch](http://pytorch.org). Also remember that seminars, lecture slides, [Google](http://google.com) and [StackOverflow](https://stackoverflow.com/) are your close friends during this course (and, probably, whole life?).\n",
    "\n",
    "* In some problems you are asked to provide short discussion of the results. In these cases you have to create **MARKDOWN** cell with your comments right after the corresponding code cell.\n",
    "\n",
    "* For every separate (sub)problem you can get only 0 points or maximal points for this problem. There are **NO INTERMEDIATE scores**. So make sure that you did everything required in the task\n",
    "\n",
    "* Your **SOLUTION** notebook **MUST BE REPRODUCIBLE**, i.e. if the reviewer decides to execute all, after all the computation he will obtain exactly the same solution (with all the corresponding plots) as in your uploaded notebook.\n",
    "\n",
    "* Your code must be clear to the reviewer. For this purpose, try to include neccessary comments inside the code. But remember: **GOOD CODE MUST BE SELF-EXPLANATORY** without any additional comments.\n",
    "\n",
    "## Recurrent Neural Networks\n",
    "\n",
    "During the seminar, we worked on building an intution for RNNs. We saw that they are very powerful techniques and compared to ARMA methods, where some assumptions must hold to apply the model, RNNs can be applied on sequential data as blackboxes and lead to good results.\n",
    "\n",
    "Recurrent Neural Networks (RNN) can read inputs $x^{\\langle t \\rangle}$ one by one. Through the hidden layer activations, they can \"remember\" some information. The RNN can pass it to the next step, in the case of the unidirectional RNN, or to previous and future steps in the bidirectional RNN.\n",
    "\n",
    "Before continuing, we should define some notation:\n",
    "* $[l]$ represents an object associated with the $l^{th}$ layer. \n",
    "* Whereas $(i)$ denotes an object associated with the $i^{th}$ example. \n",
    "\n",
    "- Superscript $\\langle t \\rangle$ denotes an object at the $t^{th}$ time-step. \n",
    "    \n",
    "- **Sub**script $i$ denotes the $i^{th}$ entry of a vector.\n",
    "\n",
    "Example:  \n",
    "- $a^{(2)[3]<4>}_5$ denotes the activation of the 2nd training example (2), 3rd layer [3], 4th time step <4>, and 5th entry in the vector.\n",
    "\n",
    "We first define some functions that will be helpful for us in the next steps:"
   ]
  },
  {
   "cell_type": "code",
   "execution_count": 1,
   "metadata": {},
   "outputs": [],
   "source": [
    "import torch\n",
    "import numpy as np\n",
    "import matplotlib.pyplot as plt\n",
    "%matplotlib inline"
   ]
  },
  {
   "cell_type": "code",
   "execution_count": 2,
   "metadata": {},
   "outputs": [],
   "source": [
    "def softmax(x):\n",
    "    e_x = torch.exp(x - torch.max(x))\n",
    "    return e_x / e_x.sum(axis=0)"
   ]
  },
  {
   "cell_type": "markdown",
   "metadata": {},
   "source": [
    "The RNN can be intuitively understood as following"
   ]
  },
  {
   "cell_type": "markdown",
   "metadata": {},
   "source": [
    "<img src=\"RNN_1.gif\" style=\"width:500;height:300px;\">\n",
    "<caption><center>Figure 1: The Recurrent Neural Network</center></caption>"
   ]
  },
  {
   "cell_type": "markdown",
   "metadata": {},
   "source": [
    "Let's discuss this implementation more in detail.\n",
    "## Inputs and outputs of a RNN\n",
    "We start with the two input vectors of the RNN, the input vector and the hidden state.\n",
    "### Input $x$\n",
    "The number of units is represented as $n_x$. It can be understood as the number of units in a single timestep of a single training example.\n",
    "\n",
    "A timestep in a single input example is represented as $x^{(i) \\langle t \\rangle }$. The timesteps are indexed as $t$. Normally, a single training example $x^{(i)}$ will consist of multiple time steps $T_x$.\n",
    "\n",
    "The training examples are grouped into so-called mini batches $x$ of size $m$. Thus, the shape of a mini batch is $(n_x,m,T_x)$. $x$ is thus a 3-dimension tensor and this will be our input into the RNN.\n",
    "\n",
    "As we will be working with mini-batches of training examples, we will need a 2D slide $x^{\\langle t \\rangle}$ of the same shape of our mini batch, $(n_x, m)$. In our implementation, this will be the variable `xt`.\n",
    "### Hidden State $a$\n",
    "The second input required in a RNN is the hidden state $a^{\\langle t \\rangle}$, an activation function. The hidden state is passed from one step to the next. It shares similarities with our input vector $x$. \n",
    "\n",
    "For example, it has a length $n_{a}$, and if we include a mini-batch of size $m$, the shape of the mini-batch will be $(n_{a},m)$. The hidden state also makes use of the same index $t$ to iterate and on each loop it uses a 2D slice $a^{\\langle t \\rangle}$ of shape $(n_{a}, m)$.\n",
    "\n",
    "In our implementation, we will have two variables for the hidden state. They will be called `a_prev` and `a_next`.\n",
    "Similarly, on each step, we produce an output vector.\n",
    "### Output $\\hat{y}$\n",
    "The ouput $\\hat{y}$ is also a 3D tensor. Its shape is $(n_{y}, m, T_{y})$, where $n_{y}$ represents the number of units in the vector representing the prediction. As it is the case with the input, $m$ reflects the number of examples in the mini batch and $T_{y}$ the number of steps in the prediction. In our implementation, we will be defining this variable as `y_pred`.\n",
    "\n",
    "If we go more in depth and look at a single time step $t$, we have a 2D slice $\\hat{y}^{\\langle t \\rangle}$ with shape $(n_{y}, m)$. Similarly, the variable in our code for this 2D slice will be called `yt_pred`.\n",
    "## The RNN cell\n",
    "In the animation above, we see that the RNN model consists basically of looping over a single cell over the index $t$. As we outlined above, we take the input consisting of two vectors, the current input $x^{\\langle t \\rangle}$, and the previous hidden state $a^{\\langle t - 1\\rangle}$. \n",
    "At the same time, we will be passing to the next RNN cell two outputs. They are the hidden state  $a^{\\langle t \\rangle}$ and the prediction $\\hat{y}^{\\langle t \\rangle}$.\n",
    "Let's start by implementing the RNN cell!\n",
    "## Task 1. Simple Cell (4 points)\n",
    "In this task, you will have 4 individual exercises:\n",
    "* **(1 pt.)** First, start by implementing the hidden state $a$ with the tanh activation function. It is defined as \n",
    "$$\n",
    "\\begin{align}\n",
    "a^{\\langle t \\rangle} = \\tanh(W_{aa} a^{\\langle t-1 \\rangle} + W_{ax} x^{\\langle t \\rangle} + b_a).\n",
    "\\end{align}\n",
    "$$\n",
    "* **(1 pt.)** Second, use the obtained result in the first task to compute the prediction \n",
    "$$\n",
    "\\begin{align}\n",
    "\\hat{y}^{\\langle t \\rangle} = softmax(W_{ya} a^{\\langle t \\rangle} + b_y).\n",
    "\\end{align}\n",
    "$$\n",
    "* **(1 pt.)** Third, proceceed to store the tuple $(a^{\\langle t \\rangle}, a^{\\langle t-1 \\rangle}, x^{\\langle t \\rangle}, parameters)$ in a `accumulator` variable.\n",
    "* **(1 pt.)** Fourth return `accumulator` and $a^{\\langle t \\rangle}$ , $\\hat{y}^{\\langle t \\rangle}$.\n",
    "The function to implement consists of the following arguments:\n",
    "* `xt` - This is the input data at timestep $t$, a pytorch tensor of shape $(n_x, m)$\n",
    "* `a_prev` - Hidden state at timestep \"t-1\", a pytorch tensor of shape $(n_a, m)$\n",
    "* `parameters` - This is a python dictionary. It consists of five keys:\n",
    "* - Wax - The weight matrix multiplying the input $x$ with shape $(n_a, n_x)$\n",
    "* - Waa - The meight matrix multiplying the hidden state $a$ with shape $(n_a, n_a)$\n",
    "* - Wya - The weight matrix for the hidden-state to the output with shape $(n_y, n_a)$\n",
    "* - ba -  Represents the bias with shape $(n_a, 1)$\n",
    "* - by -  Similarly, this is the bias for the hidden-state to the output. It has a shape $(n_y, 1)$\n",
    "    \n",
    "The function must return the following variables:\n",
    "* `a_next` - This is the next hidden state with shape $(n_a, m)$\n",
    "* `yt_pred` - It is the prediction at timestep $t$ with shape $(n_y, m)$\n",
    "* `accumulator` - A tuple of values required for the backward pass. The tuple must contain (`a_next`, `a_prev`, `xt`, `parameters`)"
   ]
  },
  {
   "cell_type": "code",
   "execution_count": 3,
   "metadata": {},
   "outputs": [
    {
     "name": "stdout",
     "output_type": "stream",
     "text": [
      "tensor([[-1.2146],\n",
      "        [-0.4352],\n",
      "        [-0.4416]]) torch.Size([3, 1])\n"
     ]
    },
    {
     "data": {
      "text/plain": [
       "tensor([[-0.2146,  0.7854,  1.7854],\n",
       "        [ 0.5648,  1.5648,  2.5648],\n",
       "        [ 0.5584,  1.5584,  2.5584]])"
      ]
     },
     "execution_count": 3,
     "metadata": {},
     "output_type": "execute_result"
    }
   ],
   "source": [
    "# I've jst checked that a can add vector to matrix and everyrhing works as expected\n",
    "a = torch.randn(3, 1)\n",
    "print(a, a.size())\n",
    "\n",
    "b = torch.Tensor([[1, 2, 3],\n",
    "                  [1, 2, 3],\n",
    "                  [1, 2, 3]])\n",
    "b + a"
   ]
  },
  {
   "cell_type": "code",
   "execution_count": 4,
   "metadata": {},
   "outputs": [],
   "source": [
    "def rnn_cell_forward(xt, a_prev, parameters):    \n",
    "\n",
    "    Wax = parameters[\"Wax\"]\n",
    "    Waa = parameters[\"Waa\"]\n",
    "    Wya = parameters[\"Wya\"]\n",
    "    ba = parameters[\"ba\"]\n",
    "    by = parameters[\"by\"]\n",
    "    \n",
    "    ### WRITE SOLUTION HERE ###\n",
    "    \n",
    "    a_next = torch.tanh(torch.mm(Waa, a_prev) + torch.mm(Wax, xt) + ba)\n",
    "    print(f'Wax: {Wax}\\nxt: {xt}\\n For tanh: {torch.mm(Waa, a_prev) + torch.mm(Wax, xt) + ba}\\n a_next: {a_next}\\n\\n')\n",
    "    yt_pred = torch.nn.functional.softmax(torch.mm(Wya, a_next) + by, dim=1)\n",
    "#     print(Wya.size(), a_next.size(), by.size(), (torch.mm(Wya, a_next) + by).size())\n",
    "    accumulator = (a_next, a_prev, xt, parameters)\n",
    "    \n",
    "    return accumulator, a_next, yt_pred\n",
    "\n",
    "    ### WRITE SOLUTION HERE ###"
   ]
  },
  {
   "cell_type": "markdown",
   "metadata": {},
   "source": [
    "Let's put our implementation to test! For this, we will define a time series with seasonality using the functions below"
   ]
  },
  {
   "cell_type": "markdown",
   "metadata": {},
   "source": [
    "Let's also define some variables to control our series"
   ]
  },
  {
   "cell_type": "markdown",
   "metadata": {},
   "source": [
    "## The RNN Forward Pass\n",
    "In the previous task, we computed one iteration of a RNN cells. However, the RNN consists of a repetition of RNN cells. For each step in index $t$, we have to use the RNN cell again. \n",
    "\n",
    "Let's not forget that on each step, the RNN cell takes two inputs, the current input data $x^{\\langle t \\rangle}$ and the hidden state from the previous cell, $a^{\\langle t-1 \\rangle}$. The output, therefore, has to be two vectors, the prediction ($y^{\\langle t \\rangle}$) and the hidden state ($a^{\\langle t \\rangle}$). If you remember our previous task, we defined a set of weights and biases named $(W_{aa}, b_{a}, W_{ax}, b_{x})$. They will be used on each time step as well.\n",
    "\n",
    "Let's implement a forward pass for our RNN!\n",
    "\n",
    "## Task 2. Go Forward (1+1+1+1+1=5 points)\n",
    "This task will consist of 5 simple exercises. They are the following:\n",
    "* **(1 pt.)** First, initializing a 3D array $a$ with zeros. It must have the shape $(n_{a}, m, T_{x})$. This array must store all the hidden states computed by our RNN\n",
    "* **(1 pt.)** Second, similarly, we will need a 3D array to store the predictions. The array $\\hat{y}$ must have the same shape as the array $a$, this means a shape $(n_{y}, m, T_{x})$\n",
    "* **(1 pt.)** Third, please create the 2D hidden state `a_next`. For this, you must set it equal to $a_{0}$, the initial hidden state.\n",
    "* **(1 pt.)** Fourth, you must iterate through each step $t$. In each loop, the RNN must do the following:\n",
    "* - Retrieve $x^{\\langle t \\rangle}$ with shape $(n_{x}, m)$. This is the 2D slide of $x$ at a time step $t$\n",
    "* - Call the function `rnn_cell_forward` to update:\n",
    "* -- the hidden state `a_next` with shape $(n_{a}, m)$\n",
    "* -- the prediction $\\hat{y}^{\\langle t \\rangle}$\n",
    "* -- and the accumulator\n",
    "* - At the $t^{th}$ position:\n",
    "* -- Store the 2D hidden state in the 3D tensor $a$ with shape $(n_{a}, m, T_{x})$\n",
    "* -- Store the 2D prediction `yt_pred` with shape $(n_{y}, m)$ in the 3D tensor $\\hat{y}_{pred}$ with shape $(n_{y}, m, T_x)$\n",
    "* - Append the accumulator to a list of accumulators\n",
    "* - Store the input data `yt_pred` and the list of accumulator into a tuple `acc`\n",
    "* **(1 pt.)** Fifth, return three variables, the tuple `acc`, the 3D tensor $a$ and $\\hat{y}$\n",
    "\n",
    "Let's remember that to implement the function rnn_forward, we have access to the following variables and parameters:\n",
    "* `x` - This is the input data for all time steps, a pytorch tensor of shape $(n_x, m, T_x)$\n",
    "* `a0` - The initial hidden state at timestep \"0\", a pytorch tensor of shape $(n_a, m)$\n",
    "* `parameters` - This is a python dictionary. It consists of five keys:\n",
    "* - Wax - The weight matrix multiplying the input $x$ with shape $(n_a, n_x)$\n",
    "* - Waa - The meight matrix multiplying the hidden state $a$ with shape $(n_a, n_a)$\n",
    "* - Wya - The weight matrix for the hidden-state to the output with shape $(n_y, n_a)$\n",
    "* - ba -  Represents the bias with shape $(n_a, 1)$\n",
    "* - by -  Similarly, this is the bias for the hidden-state to the output. It has a shape $(n_y, 1)$\n",
    "    \n",
    "The function must return the following variables:\n",
    "* `a` - This is the next hidden state for all time steps with shape $(n_a, m,T_x)$\n",
    "* `y_pred` - It is the prediction for all time steps with shape $(n_y, m, T_x)$\n",
    "* `acc` - A tuple of values required for the backward pass. The tuple must contain (list of accumulators, x)"
   ]
  },
  {
   "cell_type": "code",
   "execution_count": 5,
   "metadata": {},
   "outputs": [],
   "source": [
    "def rnn_forward(x, a0, parameters):\n",
    "    \n",
    "    list_accumulators = []\n",
    "    n_x, m, T_x = x.shape\n",
    "    n_y, n_a = parameters[\"Wya\"].shape\n",
    "    \n",
    "    ### WRITE SOLUTION HERE ###\n",
    "    \n",
    "    a = torch.zeros((n_a, m, T_x))\n",
    "    y_pred = torch.zeros((n_y, m, T_x))\n",
    "    a_next = a0\n",
    "    \n",
    "    for t in range(T_x):\n",
    "        xt = x[:, :, t]\n",
    "        accum, a_next, yt_pred = rnn_cell_forward(xt, a_next, parameters)\n",
    "        a[:, :, t] = a_next\n",
    "        y_pred[:, :, t] = yt_pred\n",
    "        list_accumulators.append(accum)\n",
    "        \n",
    "    return (list_accumulators, x), a, y_pred\n",
    "        \n",
    "    ### WRITE SOLUTION HERE ###"
   ]
  },
  {
   "cell_type": "markdown",
   "metadata": {},
   "source": [
    "## Task 3. Random RNN (1 point)\n",
    "Now that you have defined `rnn_cell_forward` and `rnn_forward`, let's test it with our data and inspect the results. This task consists of three exercises:\n",
    "* **(1 pt.)** First, initialize the RNN cell with the `series` provided above with $x$ of shape $(3, 10, 4)$. Remember also to define random values for the hidden layer $a$ and the weights and biases in the dictionary of parameters. Verify the output by printing `y_pred[1]` and the shape of `y_pred`."
   ]
  },
  {
   "cell_type": "code",
   "execution_count": 6,
   "metadata": {},
   "outputs": [],
   "source": [
    "def trend(time, slope=0):\n",
    "    return slope * time\n",
    "\n",
    "\n",
    "def seasonal_pattern(season_time):\n",
    "    \n",
    "    return np.where(season_time < 0.4,\n",
    "                    np.cos(season_time * 2 * np.pi),\n",
    "                    1 / np.exp(3 * season_time))\n",
    "\n",
    "\n",
    "def seasonality(time, period, amplitude=1, phase=0):\n",
    "    season_time = ((time + phase) % period) / period\n",
    "    return amplitude * seasonal_pattern(season_time)\n",
    "\n",
    "\n",
    "def noise(time, noise_level=1, seed=None):\n",
    "    rnd = np.random.RandomState(seed)\n",
    "    return rnd.randn(len(time)) * noise_level\n",
    "\n",
    "\n",
    "def plot_series(time, series, format=\"-\", start=0, end=None):\n",
    "    plt.plot(time[start:end], series[start:end], format)\n",
    "    plt.xlabel(\"Time\")\n",
    "    plt.ylabel(\"Value\")\n",
    "    plt.grid(True)"
   ]
  },
  {
   "cell_type": "code",
   "execution_count": 7,
   "metadata": {},
   "outputs": [],
   "source": [
    "# Config of creating time series\n",
    "time = np.arange(120, dtype=\"float32\")\n",
    "baseline = 10\n",
    "series = trend(time, 0.1)\n",
    "baseline = 10\n",
    "amplitude = 40\n",
    "slope = 0.05\n",
    "noise_level = 5"
   ]
  },
  {
   "cell_type": "markdown",
   "metadata": {},
   "source": [
    "We initialize the time series"
   ]
  },
  {
   "cell_type": "code",
   "execution_count": 8,
   "metadata": {},
   "outputs": [],
   "source": [
    "# Create the time series\n",
    "series = baseline + trend(time, slope) + seasonality(time, period=365,\n",
    "                                                     amplitude=amplitude)\n",
    "# Update with noise\n",
    "series += noise(time, noise_level, seed=42)"
   ]
  },
  {
   "cell_type": "markdown",
   "metadata": {},
   "source": [
    "and plot it"
   ]
  },
  {
   "cell_type": "code",
   "execution_count": 9,
   "metadata": {},
   "outputs": [
    {
     "data": {
      "image/png": "[encoded data removed]",
      "text/plain": [
       "<Figure size 432x288 with 1 Axes>"
      ]
     },
     "metadata": {},
     "output_type": "display_data"
    }
   ],
   "source": [
    "plt.xkcd()\n",
    "plot_series(time,series)"
   ]
  },
  {
   "cell_type": "code",
   "execution_count": 14,
   "metadata": {},
   "outputs": [],
   "source": [
    "### WRITE SOLUTION HERE ###\n",
    "\n",
    "n_x, m, T_x = 3, 10, 4\n",
    "n_a, n_y = 3, 3\n",
    "\n",
    "# actually, in our implementation n_a = n_y\n",
    "\n",
    "x = torch.Tensor(series).view(n_x, m, T_x)\n",
    "\n",
    "a0 = torch.randn((n_a, m))\n",
    "Wax = torch.randn((n_a, n_x))\n",
    "Waa = torch.randn((n_a, n_a))\n",
    "Wya = torch.randn((n_y, n_a))\n",
    "ba = torch.randn((n_a, 1))\n",
    "by = torch.randn((n_y, 1))\n",
    "\n",
    "dict_parameters = {'Wax' : Wax,\n",
    "                   'Waa' : Waa,\n",
    "                   'Wya' : Wya,\n",
    "                   'ba' : ba,\n",
    "                   'by' : by,\n",
    "                  }\n",
    "\n",
    "\n",
    "### WRITE SOLUTION HERE ###"
   ]
  },
  {
   "cell_type": "code",
   "execution_count": 15,
   "metadata": {
    "scrolled": true
   },
   "outputs": [
    {
     "name": "stdout",
     "output_type": "stream",
     "text": [
      "Wax: tensor([[ 0.8548,  0.6968, -0.8228],\n",
      "        [-1.3262, -0.5469, -0.4365],\n",
      "        [-1.1309,  1.1152, -0.3738]])\n",
      "xt: tensor([[52.4836, 48.9344, 47.6739, 50.9594, 44.2282, 55.9809, 45.1127, 43.8396,\n",
      "         45.6156, 45.4062],\n",
      "        [46.5786, 33.8717, 41.2227, 34.2318, 31.4136, 31.0990, 35.3455, 30.7934,\n",
      "         26.4346, 24.6157],\n",
      "        [20.5997, 15.1367, 13.9879, 10.5733, 13.0135,  1.9209,  5.6846,  5.3134,\n",
      "          1.9153, -0.9047]])\n",
      " For tanh: tensor([[  59.4255,   51.2178,   57.9537,   59.5835,   48.2597,   67.3142,\n",
      "           57.6880,   54.1124,   53.3637,   54.9898],\n",
      "        [-104.2590,  -90.1139,  -90.4507,  -90.8732,  -82.2027,  -91.5663,\n",
      "          -82.7739,  -75.1050,  -76.2394,  -73.2295],\n",
      "        [ -13.6174,  -24.9193,  -13.3945,  -24.4912,  -20.3187,  -29.0161,\n",
      "          -14.9584,  -19.0280,  -20.7099,  -23.2675]])\n",
      " a_next: tensor([[ 1.,  1.,  1.,  1.,  1.,  1.,  1.,  1.,  1.,  1.],\n",
      "        [-1., -1., -1., -1., -1., -1., -1., -1., -1., -1.],\n",
      "        [-1., -1., -1., -1., -1., -1., -1., -1., -1., -1.]])\n",
      "\n",
      "\n",
      "Wax: tensor([[ 0.8548,  0.6968, -0.8228],\n",
      "        [-1.3262, -0.5469, -0.4365],\n",
      "        [-1.1309,  1.1152, -0.3738]])\n",
      "xt: tensor([[49.3527, 48.9312, 52.6837, 40.0862, 50.7206, 47.3358, 48.1573, 45.1099,\n",
      "         40.0791, 34.2088],\n",
      "        [43.3510, 37.2377, 30.2290, 40.1838, 33.5446, 32.0222, 37.4972, 25.1732,\n",
      "         33.8339, 22.0690],\n",
      "        [22.8568, 16.0365, 18.5652, 11.8069, 12.2025,  6.2647,  7.8906,  3.0450,\n",
      "         13.3373, -7.1491]])\n",
      " For tanh: tensor([[ 51.9787,  52.9699,  49.2130,  50.9423,  55.0805,  56.0117,  59.1913,\n",
      "          51.9855,  45.2522,  48.8916],\n",
      "        [-97.8969, -91.0175, -93.2647, -79.0524, -89.6972, -81.7839, -86.5772,\n",
      "         -73.6809, -76.2384, -53.0766],\n",
      "        [-15.3629, -19.1547, -32.1599,  -4.2850, -23.8640, -19.5145, -14.9454,\n",
      "         -23.4318, -11.9305, -10.7550]])\n",
      " a_next: tensor([[ 1.0000,  1.0000,  1.0000,  1.0000,  1.0000,  1.0000,  1.0000,  1.0000,\n",
      "          1.0000,  1.0000],\n",
      "        [-1.0000, -1.0000, -1.0000, -1.0000, -1.0000, -1.0000, -1.0000, -1.0000,\n",
      "         -1.0000, -1.0000],\n",
      "        [-1.0000, -1.0000, -1.0000, -0.9996, -1.0000, -1.0000, -1.0000, -1.0000,\n",
      "         -1.0000, -1.0000]])\n",
      "\n",
      "\n",
      "Wax: tensor([[ 0.8548,  0.6968, -0.8228],\n",
      "        [-1.3262, -0.5469, -0.4365],\n",
      "        [-1.1309,  1.1152, -0.3738]])\n",
      "xt: tensor([[53.3147, 57.9829, 47.5917, 40.9194, 44.4550, 48.6033, 41.6051, 43.2750,\n",
      "         49.1550, 37.0019],\n",
      "        [41.5148, 38.0979, 40.1964, 41.7822, 36.2214, 26.8686, 29.7840, 29.6149,\n",
      "         12.3053, 23.4034],\n",
      "        [27.8318, 22.4871, 15.8460, 10.8466, 10.2882,  6.0265, 14.6833, -6.7815,\n",
      "         -0.5294,  3.8390]])\n",
      " For tanh: tensor([[  49.9925,   55.9992,   54.0433,   53.5585,   53.1650,   53.6999,\n",
      "           42.6271,   61.5970,   49.4171,   43.1685],\n",
      "        [-104.3186, -106.3076,  -90.7760,  -80.6125,  -82.0162,  -80.5423,\n",
      "          -76.6348,  -69.3872,  -70.4477,  -62.3071],\n",
      "        [ -23.7509,  -30.8433,  -14.2690,   -3.0864,  -13.0772,  -26.6062,\n",
      "          -18.6760,  -12.7305,  -41.0211,  -16.5325]])\n",
      " a_next: tensor([[ 1.0000,  1.0000,  1.0000,  1.0000,  1.0000,  1.0000,  1.0000,  1.0000,\n",
      "          1.0000,  1.0000],\n",
      "        [-1.0000, -1.0000, -1.0000, -1.0000, -1.0000, -1.0000, -1.0000, -1.0000,\n",
      "         -1.0000, -1.0000],\n",
      "        [-1.0000, -1.0000, -1.0000, -0.9958, -1.0000, -1.0000, -1.0000, -1.0000,\n",
      "         -1.0000, -1.0000]])\n",
      "\n",
      "\n",
      "Wax: tensor([[ 0.8548,  0.6968, -0.8228],\n",
      "        [-1.3262, -0.5469, -0.4365],\n",
      "        [-1.1309,  1.1152, -0.3738]])\n",
      "xt: tensor([[57.7118, 53.8971, 47.5064, 46.6125, 41.7680, 40.9318, 48.9852, 55.2498,\n",
      "         38.6027, 44.2535],\n",
      "        [40.1775, 45.2425, 36.1746, 40.7783, 38.9108, 25.8633, 34.5847, 34.9030,\n",
      "         28.9034, 12.3847],\n",
      "        [17.2203, 18.9176, 19.5654,  4.8521,  8.4565,  3.1030,  5.5103,  2.0787,\n",
      "          1.3560,  1.3204]])\n",
      " For tanh: tensor([[  61.5499,   60.4222,   48.1077,   62.6578,   54.2494,   48.8474,\n",
      "           59.8279,   68.2279,   50.4122,   43.7610],\n",
      "        [-104.7864, -103.2384,  -90.0869,  -84.9976,  -79.1241,  -68.5428,\n",
      "          -85.0433,  -92.0273,  -66.3540,  -64.7985],\n",
      "        [ -26.2490,  -16.9206,  -20.0478,   -8.4091,   -6.3545,  -17.9587,\n",
      "          -18.2402,  -23.6875,  -11.2813,  -36.0805]])\n",
      " a_next: tensor([[ 1.0000,  1.0000,  1.0000,  1.0000,  1.0000,  1.0000,  1.0000,  1.0000,\n",
      "          1.0000,  1.0000],\n",
      "        [-1.0000, -1.0000, -1.0000, -1.0000, -1.0000, -1.0000, -1.0000, -1.0000,\n",
      "         -1.0000, -1.0000],\n",
      "        [-1.0000, -1.0000, -1.0000, -1.0000, -1.0000, -1.0000, -1.0000, -1.0000,\n",
      "         -1.0000, -1.0000]])\n",
      "\n",
      "\n"
     ]
    }
   ],
   "source": [
    "accumulators, a, y_pred = rnn_forward(x, a0, dict_parameters)"
   ]
  },
  {
   "cell_type": "markdown",
   "metadata": {},
   "source": [
    "### Comment\n",
    "\n",
    "I'm not removing debug outputs, to show that with initializing weight as standard normal distribution and using unnormalized data, `tanh` behaves almost like `sign` on the data. This is expectable, beacuse we have some data values like $40$ or $60$ and weights from having an order of $1$. Such activations might be completely useless while tuning the model.\n",
    "\n",
    "Basically, we can see almost complete loss of information on the plot below."
   ]
  },
  {
   "cell_type": "code",
   "execution_count": 25,
   "metadata": {},
   "outputs": [
    {
     "name": "stdout",
     "output_type": "stream",
     "text": [
      "torch.Size([7, 10, 4]) torch.Size([280])\n",
      "y_pred[1]: tensor([[0.1000, 0.1000, 0.1000, 0.1000],\n",
      "        [0.1000, 0.1000, 0.1000, 0.1000],\n",
      "        [0.1000, 0.1000, 0.1000, 0.1000],\n",
      "        [0.1000, 0.1000, 0.1001, 0.1000],\n",
      "        [0.1000, 0.1000, 0.1000, 0.1000],\n",
      "        [0.1000, 0.1000, 0.1000, 0.1000],\n",
      "        [0.1000, 0.1000, 0.1000, 0.1000],\n",
      "        [0.1000, 0.1000, 0.1000, 0.1000],\n",
      "        [0.1000, 0.1000, 0.1000, 0.1000],\n",
      "        [0.1000, 0.1000, 0.1000, 0.1000]])\n",
      "y_pred.shape: torch.Size([7, 10, 4])\n"
     ]
    },
    {
     "data": {
      "image/png": "[encoded data removed]",
      "text/plain": [
       "<Figure size 432x288 with 1 Axes>"
      ]
     },
     "metadata": {},
     "output_type": "display_data"
    }
   ],
   "source": [
    "### WRITE SOLUTION HERE ###\n",
    "\n",
    "plot_series(time, torch.flatten(y_pred)[:120])\n",
    "print(f'y_pred[1]: {y_pred[1]}\\ny_pred.shape: {y_pred.shape}')\n",
    "\n",
    "### WRITE SOLUTION HERE ###"
   ]
  },
  {
   "cell_type": "markdown",
   "metadata": {},
   "source": [
    "# Home Assignment No. 4: Part 2 (Theory)\n",
    "In this part of the homework you are to solve several simple theoretical problems related to time series forecasting algorithms.\n",
    "* For every separate problem you can get only 0 points or maximal points for this problem. There are **NO INTERMEDIATE scores**.\n",
    "* Your solution must me **COMPLETE**, i.e. contain all required formulas/proofs/detailed explanations.\n",
    "* You must write your solution for any problem right after the words **YOUR SOLUTION**. Attaching pictures of your handwriting is allowed, but **highly discouraged**.\n",
    "## $\\LaTeX$ in Jupyter\n",
    "Jupyter has constantly improving $\\LaTeX$ support. Below are the basic methods to\n",
    "write **neat, tidy, and well typeset** equations in your notebooks:\n",
    "* to write an **inline** equation use \n",
    "```markdown\n",
    "$ you latex equation here $\n",
    "```\n",
    "* to write an equation, that is **displayed on a separate line** use \n",
    "```markdown\n",
    "$$ you latex equation here $$\n",
    "```\n",
    "* to write a **block of equations** use \n",
    "```markdown\n",
    "\\begin{align}\n",
    "    left-hand-side\n",
    "        &= right-hand-side on line 1\n",
    "        \\\\\n",
    "        &= right-hand-side on line 2\n",
    "        \\\\\n",
    "        &= right-hand-side on the last line\n",
    "\\end{align}\n",
    "```\n",
    "The **ampersand** (`&`) aligns the equations horizontally and the **double backslash**\n",
    "(`\\\\`) creates a new line.\n",
    "\n",
    "## The ARMA Process\n",
    "The family of ARMA processses (such as ARIMA and SARIMA) plays a major role in times series forecasting. In the first half of the homework, we will look deeper into understanding important elements around ARMA.\n",
    "\n",
    "We start by remembering that for a time series $\\{X_t\\}$ with $E(X^2_t) < \\infty$, its mean function is defined by $\\mu_X(t) = E(X_t)$ and the sample mean, for the $x_1, \\ldots, x_n$ observations by $\\bar{x} = \\frac{1}{n} \\sum^n_{t=1} x_t$. \n",
    "\n",
    "Similarly, its covariance function is \n",
    "$$\n",
    "\\begin{aligned}\n",
    "\\gamma_X(r,s) = Cov(X_r, X_s) \\\\ \n",
    "= E[(X_r - \\mu_X(r))(X_s - \\mu_X(s))]\n",
    "\\end{aligned}\n",
    "$$ \n",
    "for all integers $r$ and $s$. \n",
    "\n",
    "We know that for $\\{X_t\\}$ to be (weakly) stationary, it must fulfill two conditions. First, $\\mu_X(t)$ must be independent of $t$, and $\\gamma_X(t+h, t)$ must be also independent of $t$ for each h.\n",
    "\n",
    "In the seminar, we applied the autocovariance and the autocorrelation functions to a dataset without deeper discussing their definition. Now, we look deeper into them.\n",
    "\n",
    "#### Autocovariance function\n",
    "The autocovariance function or ACVF of $\\{X_t\\}$ at lag $h$ is $\\gamma X(h) = Cov(X_{t+h}, X_t)$.\n",
    "\n",
    "For the observations $x_1, \\ldots, x_n$, the sample autocovariance function can be similarly defined by\n",
    "$$\n",
    "\\begin{aligned}\n",
    "\\hat{\\gamma} (h) := n^{-1} \\sum^{n - |h|}_{t=1} (x_{t+|h|} - \\bar{x})(x_t - \\bar{x})\n",
    "\\end{aligned}\n",
    "$$ \n",
    "for $-n < h < n$\n",
    "\n",
    "#### Autocorrelation function\n",
    "The autocorrelation function or ACF makes use of ACVF as following $\\rho_X(h) = \\frac{\\gamma X(h)}{\\gamma X(0)} = Cor(X_{t+h}, X_t)$.\n",
    "\n",
    "Similarly, we can write the sample autocorrelation function as \n",
    "$$\n",
    "\\begin{aligned}\n",
    "\\hat{\\rho} (h) = \\frac{\\hat{\\gamma}(h)}{\\hat{\\gamma}(0)}\n",
    "\\end{aligned}\n",
    "$$ \n",
    "for $-n < h < n$\n",
    "\n",
    "Let's also remember a useful property of covariances, the linear property. It means that if that if $EX^2 < \\infty ,EY^2 < \\infty,EZ^2 < \\infty$ and $a$,$b$,and $c$ are any real constants, then, we can do $Cov(aX + bY + c, Z) = a Cov(X, Z) + b Cov(Y, Z)$.\n",
    "\n",
    "One of the cornerstones of classic forecasting is the Moving Average Process $MA(q)$. It can be defined, if the time series $\\{X_t\\}$ is $Xt = Z_t + \\theta_{1}Z_{t−1} +\\ldots+ \\theta_{q}Z_{t−q}$, where $\\{Z_t\\} \\sim WN(0,\\sigma^2)$, and $\\theta_{1},\\ldots,\\theta_{q}$ are constants, and $WN$, White Noise, being a sequence of uncorrelated random variables, each with zero mean and variance $\\sigma^2$ defined by $\\sigma^2 = E(X − \\mu)^2$. \n",
    "\n",
    "Let's put this into practice!"
   ]
  },
  {
   "cell_type": "markdown",
   "metadata": {},
   "source": [
    "## Task 1. MA(2) (1+1+1=3 points)\n",
    "Let's define a MA(2) with a white noise function of mean 0 and variance 1. Please do the following (**explicitly** outline all your computations):\n",
    "* **(1 pt.)** For $\\theta = 0.9$, derive the formula for the autocovariance and autocorrelation functions for this process.\n",
    "* **(1 pt.)** For $\\theta = 0.9$, compute the variance of the sample mean $(X_1 + X_2 + X_3 + X_4)/4$.\n",
    "* **(1 pt.)** If now we change our $\\theta$ to $-0.9$, what happens? What is the effect of a negative covariance? Please compare the result with the previous computation and **provide an explanation**.\n",
    "### Your Solution:\n",
    "#### autocovariance function derivation\n",
    "\n",
    "Ассording to the discussion in Canvas, we're having a model $X_t = Z_t + \\theta Z_{t - 2}$.\n",
    "This means that if all variables $Z_t$ are centered and independent (as they are by the problem statement), we will have covariance function equal to $0$ for every $h \\notin \\{0, 2, -2\\}$, because otherwise $X_t$ and $X_{t + h}$ will be produced by sum of different independent random variables, which makes covariance equal to zero. \n",
    "\n",
    "For arbitrary $h$ we have:\n",
    "$$\n",
    "Cov (X_t, X_{t + h}) = \n",
    "\\mathbb{E} \\left( (X_t - \\mu_X(t)) (X_{t+h} - \\mu_X(t + h)) \\right) = \n",
    "\\mathbb{E} X_t X_{t + h}\n",
    "$$\n",
    "\n",
    "Let's find covariance for $h = 2$:\n",
    "$$\n",
    "Cov (X_t, X_{t + 2}) = \\mathbb{E} X_t X_{t + 2} = \n",
    "\\mathbb{E} (Z_t + \\theta Z_{t - 2})  (Z_{t + 2} + \\theta Z_t) = \\\\\n",
    "\\{\\text{prods of different time steps will give 0 expectation}\\} =\n",
    "\\mathbb{E} \\theta Z_t^2 = \\theta = 0.9.\n",
    "$$\n",
    "\n",
    "For $h = 0$ we get just a variance. It's easily derived using variance properties: \n",
    "$$\n",
    "Var(X_t) = 1 + \\theta^2 = 1.81.\n",
    "$$\n",
    "\n",
    "For $h = -2$:\n",
    "$$\n",
    "Cov (X_t, X_{t - 2}) = \\mathbb{E} X_t X_{t - 2} = \n",
    "\\mathbb{E} (Z_t + \\theta Z_{t - 2})  (Z_{t - 2} + \\theta Z_{t - 4}) = \\\\\n",
    "\\{\\text{prods of different time steps will give 0 expectation}\\} =\n",
    "\\mathbb{E} \\theta Z_{t - 2}^2 = \\theta = 0.9.\n",
    "$$\n",
    "\n",
    "#### autocorrelation function derivation\n",
    "\n",
    "Having $Cov(X_t, X_{t + h}) = \\theta = 0.9$ for $h \\in \\{-2, 2\\}$, we can use formula for correlation and get:\n",
    "$$\n",
    "Cor(X_{t + h}, X_t) = \\frac{\\theta}{1 + \\theta^2} = \\frac{0.9}{1.81} \\approx 0.5.\n",
    "$$\n",
    "(for other h we have $0$; $h = 0$ we get $1$, because it's just a random variable autocorrelation, which is always $1$)\n",
    "\n",
    "#### variance of the sample mean\n",
    "Let's elaborate, what are the variables from the sample: $X_1 = Z_1 + \\theta Z_{-1}; X_2 = Z_2 + \\theta Z_0; X_3 = Z_3 + \\theta Z_1; X_4 = Z_4 + \\theta Z_2$. Let's see what do we have in the mean expression:\n",
    "$$\n",
    "\\frac{Z_1 + \\theta Z_{-1} + Z_2 + \\theta Z_0 + Z_3 + \\theta Z_1 + Z_4 + \\theta Z_2}{4} = \n",
    "\\frac{\\theta Z_{-1} + Z_0 \\theta + Z_1 (1 + \\theta) + Z_2 (1 + \\theta) + Z_3 + Z_4}{4} \\implies \\\\\n",
    "\\implies Var \\left( \\frac{\\theta Z_{-1} + Z_0 \\theta + Z_1 (1 + \\theta) + Z_2 (1 + \\theta) + Z_3 + Z_4}{4} \\right) = \n",
    "\\frac{2 * \\theta + 2 (1 + \\theta)^2 + 2}{4} \\approx 0.69.\n",
    "$$\n",
    "\n",
    "#### last question\n",
    "Ok, if we have $\\theta$ = -0.9, then variance of $\\{X_t\\}$ stays the same, but autocovariance function and, thus, autocorrelation function change to the negative value, which, basically, has the same sense. But the variance of the mean of the first four points will be equal to $\\approx 0.46$, which is less, than it was."
   ]
  },
  {
   "cell_type": "code",
   "execution_count": 2,
   "metadata": {},
   "outputs": [
    {
     "data": {
      "text/plain": [
       "0.46375"
      ]
     },
     "execution_count": 2,
     "metadata": {},
     "output_type": "execute_result"
    }
   ],
   "source": [
    "(-1.8 + 2 * 1.9**2 + 2) / 16"
   ]
  },
  {
   "cell_type": "markdown",
   "metadata": {},
   "source": [
    "*** Please type here your solution ***"
   ]
  },
  {
   "cell_type": "markdown",
   "metadata": {},
   "source": [
    "## Task 2. Stationary processes (1+1=2 points)\n",
    "Assume that $\\{Y_t\\}$ represents a sequence with zero mean and variance $\\sigma^2$, let $a$ and $b$ are two constants. Are the following processes stationary? If they are, what would be their respective autocovariance and mean? \n",
    "* **(1 pt.)** $b + aY_0$\n",
    "* **(1 pt.)** $Y_{t}Y_{t-1}$\n",
    "\n",
    "Explicitly clarify your answer and please provide all necessary steps behind your reasoning.\n",
    "### Your Solution:"
   ]
  },
  {
   "cell_type": "markdown",
   "metadata": {},
   "source": [
    "We know that for $\\{Y_t\\}$ to be (weakly) stationary, it must fulfill two conditions. First, $\\mu_Y (t)$ must be independent of $t$, and $\\gamma_Y (t + h, t)$ must be also independent of $t$ for each h.\n",
    "\n",
    "#### problem 1\n",
    "1. $b + a Y_0$ is clearly independent of t, so is the mean of the process. \n",
    "2. $\\gamma_Y (t + h, t) = Cov(Y_{t + h}, Y_t) = Cov(b + a Y_0, b + a Y_0) = a^2 Cov(Y_0, Y_0) = a^2 Var(Y_0) = a^2 \\sigma^2$ is clearly independent of $t$.\n",
    "\n",
    "**Mean:** $b + a \\mathbb{E} Y_0 = b$; **autocovariance:**  $a^2 \\sigma^2$.\n",
    "\n",
    "#### problem 2\n",
    "1. Mean of the process: $\\mu_Y (t) = \\mathbb{E} Y_{t - 1} Y_t = \\{\\text{hence Y_i are independent}\\} = \\mathbb{E} Y_{t - 1} \\mathbb{E} Y_t = 0$. Independent of t.\n",
    "2. Let's study the autocovariance function:\n",
    "$$\n",
    "\\gamma_Y (t + h, t) = Cov(Y_{t + h} Y_{t + h - 1}, Y_{t} Y_{t - 1}) = \n",
    "\\mathbb{E} (Y_{t + h} Y_{t + h - 1} - \\mathbb{E} Y_{t + h} Y_{t + h - 1}) (Y_{t} Y_{t - 1} - \\mathbb{E} Y_{t} Y_{t - 1}) =\n",
    "\\mathbb{E} (Y_{t + h} Y_{t + h - 1}) (Y_{t} Y_{t - 1}) = \\{\\text{for h > 1}\\} =\n",
    "\\mathbb{E} Y_{t + h} \\mathbb{E} Y_{t + h - 1} \\mathbb{E} Y_{t} \\mathbb{E} Y_{t - 1} = 0.\n",
    "$$\n",
    "\n",
    "However, for $h = 1$, we will get the same result $\\gamma_Y (t + 1, t) = \\mathbb{E} Y_{t + 1} \\mathbb{E} Y_{t}^2 \\mathbb{E} Y_{t - 1} = 0$.\n",
    "\n",
    "**Mean:** $0$; **autocovariance:**  $0$."
   ]
  },
  {
   "cell_type": "markdown",
   "metadata": {},
   "source": [
    "## Task 3. Questionable processes (1 point)\n",
    "Assume that we have two moving average processes MA(1) and $0 < |\\theta| < 1$. The first process is defined by $Q_t + \\frac{1}{\\theta}Q_{t-1}$. It has a White Noise with variance $\\sigma^2\\theta^2$ and zero mean. The second one is $S_t + \\theta S_{t−1}$ with a White Noise with zero mean and variance $\\sigma^2$.\n",
    "\n",
    "Do they have the same autocovariance functions? Answer this question by deriving exact \n",
    "analytic formulas for autocovariation functions.\n",
    "### Your solution"
   ]
  },
  {
   "cell_type": "markdown",
   "metadata": {},
   "source": [
    "We'll derive autocovariance function exactly like we did in previous tasks.\n",
    "\n",
    "Firstly, let's denote $X_t = Q_t + \\frac{1}{\\theta} Q{t - 1}, Y_t = S_t + \\theta S_{t - 1}$.\n",
    "\n",
    "Because of the reasons above, it is reasonable to deal only with $h = \\pm 1$ for both processes. Let's study $X_t$ first:\n",
    "$$\n",
    "Cov(X_{t + 1}, X_t) = \\mathbb{E} (X_{t + 1} X_t) = \n",
    "\\mathbb{E} \\left( (Q_{t + 1} + \\frac{1}{\\theta} Q_t) (Q_{t} + \\frac{1}{\\theta} Q_{t - 1}) \\right) = \n",
    "\\frac{1}{\\theta} Q_t^2 = \\sigma^2 \\theta.\n",
    "$$\n",
    "The same holds for $h = -1$ like in the previous problem. Function is $0$ elsewhere.\n",
    "\n",
    "Now let's study $Y_t$:\n",
    "$$\n",
    "Cov(Y_{t + 1}, Y_t) = \\mathbb{E} (Y_{t + 1} Y_t) = \n",
    "\\mathbb{E} \\left( (S_{t + 1} + \\theta S_t) (S_{t} + \\theta S_{t - 1}) \\right) = \n",
    "\\theta S_t^2 = \\sigma^2 \\theta.\n",
    "$$\n",
    "The same holds for $h = -1$ like in the previous problem. For $h = 0$ we have just autocovariance, which is variance, which is clearly the same. Function is $0$ elsewhere.\n",
    "\n",
    "**Answer:** yes, they have the same autocovariance functions"
   ]
  },
  {
   "cell_type": "markdown",
   "metadata": {},
   "source": [
    "## ARMA\n",
    "Let's start by defining the ARMA(p, q) process for a time series ${Xt}$. This is the case if the time series is stationary and for every $t$, it satisfies\n",
    "$$\n",
    "\\begin{aligned}\n",
    "X_t − \\phi X_{t−1} - \\ldots -  \\phi_p X_{t−p} = Z_{t} + \\theta Z_{t−1} + \\ldots + \\theta_q Z_{t-q},\n",
    "\\end{aligned}\n",
    "$$\n",
    "\n",
    "where ${Z_t} \\sim WN(0, \\sigma^2)$ In addition, the polynomials $1+ \\theta_{1}z + \\ldots + \\theta_{q}z^q$ and $1 − \\phi_{1}z − \\ldots − \\phi_{p}z^p$ have no common factors.\n",
    "\n",
    "\n",
    "\n",
    "If we define $B$ by the Backwards Shift Operator $BX_{t} = X_{t−1}$ or more generally $B^j X_t = X_{t−j}, B^j Z_t = Z_{t−j}, j = 0, \\pm 1, \\ldots$, we can write this more cleanly as \n",
    "$$\n",
    "\\begin{aligned}\n",
    "\\phi(B)X_t = \\theta(B)Z_t,\n",
    "\\end{aligned}\n",
    "$$\n",
    "\n",
    "where $\\phi()$ and $\\theta()$ are the p-th and q-th-degree polynomials: $\\phi(z) = 1 − \\phi_1 z − \\ldots − \\phi_{p} z^p$ and\n",
    "$\\theta(z) = 1 + \\theta_1 z + \\ldots + \\theta_{q}z^q$.\n",
    "### The Partial Autocorrelation Function\n",
    "The partial autocorrelation function (PACF) of an ARMA process $\\{X_t\\}$ is the function $\\alpha()$ defined by the equations\n",
    "\n",
    "$$\\alpha(0) = 1 \\qquad \\text{and}\\qquad \\alpha(h) = \\phi_{hh}\\text{, } h \\geq 1,$$\n",
    "\n",
    "where $\\phi_{hh}$ is the last component of $\\phi_{h} = \\Gamma^{-1}_h \\gamma_h$. Here, $\\Gamma_h = [\\gamma(i - j)]^h_{i,j = 1}$ and $\\gamma_h = [\\gamma(1), \\gamma(2), \\ldots, \\gamma(h)]$\n",
    "\n",
    "Similarly, the sample PACF is the funciton $\\hat{\\alpha}()$, where \n",
    "\n",
    "$$\\hat{\\alpha}(0) = 1\\qquad \\text{and} \\qquad \\hat{\\alpha}(h) = \\hat{\\phi}_{hh}\\text{, } h \\geq 1,$$\n",
    "where $\\hat{\\phi}_{hh}$ is the last component of $\\hat{\\phi}_{h} = \\Gamma^{-1}_h \\hat{\\gamma}_h$"
   ]
  },
  {
   "cell_type": "markdown",
   "metadata": {},
   "source": [
    "## Task 4. ARMA (3 points)\n",
    "Assuming that the best linear predictor of $X_{h+1}$ can be estimated as $\\hat{X}_{h+1} = \\sum^h_{i=1} \\phi_{hi} X_{h+1-i}$, compute the PACF $\\alpha(2)$ of the moving average process MA(1) defined by $X_t = Q_t + \\theta Q_{t-1}$, where $\\{Q_t\\}$ is a White Noise with zero mean and variance $\\sigma^2$.\n",
    "### Your solution"
   ]
  },
  {
   "cell_type": "markdown",
   "metadata": {},
   "source": [
    "1. Firstly, let's find several $\\gamma (i)$ values:\n",
    "$$\n",
    "\\gamma(0) = \\sigma^2 + \\theta^2 \\sigma^2; \\\\\n",
    "\\gamma(-1) = \\gamma (1) = Cov(X_{t + 1}, X_t) = \\mathbb (Q_{t + 1} + \\theta Q_{t}) (Q_t + \\theta Q_{t - 1}) = \\theta \\sigma^2; \\\\\n",
    "\\gamma(2) = 0.\n",
    "$$\n",
    "2. Secondly, let's find $\\Gamma_2$ and it's inverse:\n",
    "$$\n",
    "\\Gamma_2 = \n",
    "\\begin{pmatrix}\n",
    "  \\gamma(0) & \\gamma(-1) \\\\\n",
    "  \\gamma(1) & \\gamma(0)\n",
    "\\end{pmatrix} = \n",
    "\\begin{pmatrix}\n",
    "  \\sigma^2 + \\theta^2 \\sigma^2 & \\theta \\sigma^2 \\\\\n",
    "  \\theta \\sigma^2 & \\sigma^2 + \\theta^2 \\sigma^2\n",
    "\\end{pmatrix}; \\\\[20pt]\n",
    "\\Gamma_2^{-1} = \n",
    "\\frac{1}{\\det \\Gamma_2}\n",
    "\\begin{pmatrix}\n",
    "  \\sigma^2 + \\theta^2 \\sigma^2 & -\\theta \\sigma^2 \\\\\n",
    "  -\\theta \\sigma^2 & \\sigma^2 + \\theta^2 \\sigma^2\n",
    "\\end{pmatrix} = \n",
    "\\frac{1}{(\\sigma^2 + \\theta^2 \\sigma^2)^2 - \\theta^2 \\sigma^4} \n",
    "\\begin{pmatrix}\n",
    "  \\sigma^2 + \\theta^2 \\sigma^2 & -\\theta \\sigma^2 \\\\\n",
    "  -\\theta \\sigma^2 & \\sigma^2 + \\theta^2 \\sigma^2\n",
    "\\end{pmatrix} = \n",
    "\\frac{1}{\\sigma^2 (1 + \\theta^2)^2 - \\theta^2 \\sigma^2} \n",
    "\\begin{pmatrix}\n",
    "  1 + \\theta^2 & -\\theta \\\\\n",
    "  -\\theta & 1 + \\theta^2\n",
    "\\end{pmatrix}.\n",
    "$$\n",
    "3. So, finally, we can derive the result:\n",
    "$$\n",
    "\\phi_2 = \n",
    "\\frac{1}{\\sigma^2 (1 + \\theta^2)^2 - \\theta^2 \\sigma^2} \n",
    "\\begin{pmatrix}\n",
    "  1 + \\theta^2 & -\\theta \\\\\n",
    "  -\\theta & 1 + \\theta^2\n",
    "\\end{pmatrix}\n",
    "\\begin{pmatrix}\n",
    "\\theta \\sigma^2 \\\\ 0\n",
    "\\end{pmatrix} = \n",
    "\\frac{1}{(1 + \\theta^2)^2 - \\theta^2} \n",
    "\\begin{pmatrix}\n",
    "  1 + \\theta^2 & -\\theta \\\\\n",
    "  -\\theta & 1 + \\theta^2\n",
    "\\end{pmatrix}\n",
    "\\begin{pmatrix}\n",
    "\\theta \\\\ 0\n",
    "\\end{pmatrix} =\n",
    "\\frac{1}{(1 + \\theta^2)^2 - \\theta^2} \n",
    "\\begin{pmatrix}\n",
    "\\theta + \\theta^3 \\\\ - \\theta^2\n",
    "\\end{pmatrix}.\n",
    "$$\n",
    "\n",
    "So, the **PACF** is:\n",
    "$$\n",
    "\\alpha(2) = \\phi_{22} = -\\frac{\\theta^2}{(1 + \\theta^2)^2 - \\theta^2}\n",
    "$$\n",
    "\n",
    "and\n",
    "$$\n",
    "X^3 = \\sum_{i = 1}^{2}\\phi_{2i} X_{3 - i} = \n",
    "-\\frac{\\theta^2}{(1 + \\theta^2)^2 - \\theta^2} X_1 + \\frac{\\theta + \\theta^3}{(1 + \\theta^2)^2 - \\theta^2} X_2.\n",
    "$$"
   ]
  },
  {
   "cell_type": "code",
   "execution_count": null,
   "metadata": {},
   "outputs": [],
   "source": []
  }
 ],
 "metadata": {
  "kernelspec": {
   "display_name": "Python 3",
   "language": "python",
   "name": "python3"
  },
  "language_info": {
   "codemirror_mode": {
    "name": "ipython",
    "version": 3
   },
   "file_extension": ".py",
   "mimetype": "text/x-python",
   "name": "python",
   "nbconvert_exporter": "python",
   "pygments_lexer": "ipython3",
   "version": "3.6.9"
  }
 },
 "nbformat": 4,
 "nbformat_minor": 4
}
